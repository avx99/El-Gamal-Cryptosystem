{
 "cells": [
  {
   "cell_type": "code",
   "execution_count": 1,
   "metadata": {},
   "outputs": [],
   "source": [
    "def find_primitive_root(p):\n",
    "    # find ϕ(p)\n",
    "    phi = p - 1\n",
    "\n",
    "    # divisors of ϕ(p)\n",
    "    phi_div = [k for k in range(2, phi) if phi % k == 0 ]\n",
    "\n",
    "    #iterate through all numbers g∈[1,p], and for each number, to check if it is primitive root.\n",
    "    for g in range(1, p):\n",
    "        r = True\n",
    "        for d in phi_div:\n",
    "            if g**d % p == 1 :\n",
    "                r = False\n",
    "                break\n",
    "        if r == True:\n",
    "            return g\n",
    "\n",
    "    return False\n"
   ]
  },
  {
   "cell_type": "code",
   "execution_count": 2,
   "metadata": {},
   "outputs": [
    {
     "data": {
      "text/plain": [
       "2"
      ]
     },
     "execution_count": 2,
     "metadata": {},
     "output_type": "execute_result"
    }
   ],
   "source": [
    "find_primitive_root(29)"
   ]
  },
  {
   "cell_type": "code",
   "execution_count": 3,
   "metadata": {},
   "outputs": [
    {
     "data": {
      "text/plain": [
       "1"
      ]
     },
     "execution_count": 3,
     "metadata": {},
     "output_type": "execute_result"
    }
   ],
   "source": [
    "find_primitive_root(8)"
   ]
  },
  {
   "cell_type": "code",
   "execution_count": 4,
   "metadata": {},
   "outputs": [
    {
     "data": {
      "text/plain": [
       "3"
      ]
     },
     "execution_count": 4,
     "metadata": {},
     "output_type": "execute_result"
    }
   ],
   "source": [
    "find_primitive_root(7)"
   ]
  },
  {
   "cell_type": "code",
   "execution_count": 16,
   "metadata": {},
   "outputs": [
    {
     "data": {
      "text/plain": [
       "6"
      ]
     },
     "execution_count": 16,
     "metadata": {},
     "output_type": "execute_result"
    }
   ],
   "source": [
    "find_primitive_root(41)"
   ]
  },
  {
   "cell_type": "code",
   "execution_count": 17,
   "metadata": {},
   "outputs": [
    {
     "data": {
      "text/plain": [
       "2"
      ]
     },
     "execution_count": 17,
     "metadata": {},
     "output_type": "execute_result"
    }
   ],
   "source": [
    "find_primitive_root(2579)"
   ]
  },
  {
   "cell_type": "code",
   "execution_count": 9,
   "metadata": {},
   "outputs": [],
   "source": [
    "def square_and_multiply(n,e): \n",
    "    \"\"\"\n",
    "        @para:\n",
    "            n : exponent base.\n",
    "            e : the expoxant.\n",
    "        \n",
    "        function square and multiplication:\n",
    "            it use to compute n to the power of e.\n",
    "    \"\"\"\n",
    "    # list of bytes of n:\n",
    "    binary = [int(k) for k in bin(e).split('0b')[1]]\n",
    "    \n",
    "    # First One lists Number\n",
    "    binary = binary[1:]\n",
    "    p = n\n",
    "\n",
    "    for b in binary:\n",
    "        # Zero calls for Square \n",
    "        if b == 0:\n",
    "            p = p**2\n",
    "        \n",
    "        # else : b==1 , One calls for Square + Multiply \n",
    "        else :\n",
    "            p = (p**2)*n\n",
    "    \n",
    "    return p"
   ]
  },
  {
   "cell_type": "code",
   "execution_count": 10,
   "metadata": {},
   "outputs": [],
   "source": [
    "# from timeit import default_timer as timer\n",
    "# from math import pow\n",
    "# start = timer()\n",
    "# square_and_multiply(123456,123456)\n",
    "# end = timer()\n",
    "# print('1: ',end - start)\n",
    "\n",
    "# start = timer()\n",
    "# pow(123456,123456)\n",
    "# end = timer()\n",
    "# print('2: ',end - start)"
   ]
  },
  {
   "cell_type": "code",
   "execution_count": 11,
   "metadata": {},
   "outputs": [
    {
     "data": {
      "text/plain": [
       "976713545450444529168010960043"
      ]
     },
     "execution_count": 11,
     "metadata": {},
     "output_type": "execute_result"
    }
   ],
   "source": [
    "from Crypto import Util, Random\n",
    "bits = 100\n",
    "def generate_random_prime(bits):\n",
    "    return Util.number.getPrime(bits, randfunc= Random.get_random_bytes)\n",
    "\n",
    "generate_random_prime(bits)"
   ]
  },
  {
   "cell_type": "code",
   "execution_count": 12,
   "metadata": {},
   "outputs": [],
   "source": [
    "from Crypto.Random import random\n",
    "class Elgamal:\n",
    "    def __init__(self):\n",
    "        self.prime = None\n",
    "        self.generator = None\n",
    "        self.enc_private_key = None\n",
    "        self.dec_private_key = None\n",
    "        self.public_key = None\n",
    "        \n",
    "\n",
    "    def generate(self, bits):\n",
    "        self.prime = generate_random_prime(bits)\n",
    "        self.generator = find_primitive_root(self.prime)\n",
    "        self.dec_private_key = random.randrange(2,self.prime-1)\n",
    "        self.public_key = square_and_multiply(self.generator, self.dec_private_key) % self.prime\n",
    "\n",
    "    def export_key(self):\n",
    "        return self.public_key, self.prime, self.generator\n",
    "\n",
    "    def encryption(self, beta, p, g , x):\n",
    "        self.enc_private_key = random.randrange(2, p-1)\n",
    "        temp_key = square_and_multiply(g, self.enc_private_key) % p\n",
    "        mask_key = square_and_multiply(beta, self.enc_private_key) % p\n",
    "        y = [ord(c) * mask_key % p for c in x]\n",
    "        return y, temp_key\n",
    "\n",
    "    def decryption(self, y, temp_key):\n",
    "        mask_key = square_and_multiply(temp_key, self.dec_private_key)\n",
    "        inv_mask_key = square_and_multiply(temp_key, self.prime - self.dec_private_key - 1)\n",
    "        x = [chr(i * inv_mask_key % self.prime) for i in y]\n",
    "        return x\n",
    "\n",
    "\n",
    "        "
   ]
  },
  {
   "cell_type": "code",
   "execution_count": 13,
   "metadata": {},
   "outputs": [],
   "source": [
    "bob = Elgamal()\n",
    "bob.generate(10)\n",
    "beta, p, g = bob.export_key()"
   ]
  },
  {
   "cell_type": "code",
   "execution_count": 14,
   "metadata": {},
   "outputs": [
    {
     "data": {
      "text/plain": [
       "[333, 247, 206, 206, 440]"
      ]
     },
     "execution_count": 14,
     "metadata": {},
     "output_type": "execute_result"
    }
   ],
   "source": [
    "alice = Elgamal()\n",
    "p\n",
    "y, temp_key = alice.encryption(beta, p, g, 'Hello')\n",
    "y"
   ]
  },
  {
   "cell_type": "code",
   "execution_count": 15,
   "metadata": {},
   "outputs": [
    {
     "data": {
      "text/plain": [
       "['H', 'e', 'l', 'l', 'o']"
      ]
     },
     "execution_count": 15,
     "metadata": {},
     "output_type": "execute_result"
    }
   ],
   "source": [
    "\n",
    "x = bob.decryption(y, temp_key)\n",
    "x"
   ]
  },
  {
   "cell_type": "code",
   "execution_count": 78,
   "metadata": {},
   "outputs": [
    {
     "data": {
      "text/plain": [
       "'A'"
      ]
     },
     "execution_count": 78,
     "metadata": {},
     "output_type": "execute_result"
    }
   ],
   "source": [
    "chr(x)"
   ]
  },
  {
   "cell_type": "code",
   "execution_count": 83,
   "metadata": {},
   "outputs": [
    {
     "data": {
      "text/plain": [
       "{-1: 'a'}"
      ]
     },
     "execution_count": 83,
     "metadata": {},
     "output_type": "execute_result"
    }
   ],
   "source": []
  },
  {
   "cell_type": "code",
   "execution_count": 2,
   "metadata": {},
   "outputs": [
    {
     "data": {
      "text/plain": [
       "'Hello World! My name is Hamza El Gatia'"
      ]
     },
     "execution_count": 2,
     "metadata": {},
     "output_type": "execute_result"
    }
   ],
   "source": [
    "from Elgamal import Elgamal\n",
    "bob = Elgamal()\n",
    "bob.generate(10)\n",
    "beta, p, g = bob.export_key()\n",
    "\n",
    "#--------------------------------------\n",
    "alice = Elgamal()\n",
    "p\n",
    "y, temp_key = alice.encryption(beta, p, g, 'Hello World! My name is Hamza El Gatia')\n",
    "\n",
    "#-------------------------------------\n",
    "x = bob.decryption(y, temp_key)\n",
    "x"
   ]
  },
  {
   "cell_type": "code",
   "execution_count": null,
   "metadata": {},
   "outputs": [],
   "source": []
  }
 ],
 "metadata": {
  "kernelspec": {
   "display_name": "Python 3",
   "language": "python",
   "name": "python3"
  },
  "language_info": {
   "codemirror_mode": {
    "name": "ipython",
    "version": 3
   },
   "file_extension": ".py",
   "mimetype": "text/x-python",
   "name": "python",
   "nbconvert_exporter": "python",
   "pygments_lexer": "ipython3",
   "version": "3.7.6"
  }
 },
 "nbformat": 4,
 "nbformat_minor": 2
}
